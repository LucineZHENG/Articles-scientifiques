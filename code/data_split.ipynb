{
 "cells": [
  {
   "cell_type": "code",
   "execution_count": 2,
   "id": "6a86ea75",
   "metadata": {},
   "outputs": [],
   "source": [
    "import pandas as pd\n"
   ]
  },
  {
   "cell_type": "code",
   "execution_count": 3,
   "id": "db91bbad",
   "metadata": {},
   "outputs": [
    {
     "data": {
      "text/plain": [
       "(['Unnamed: 0',\n",
       "  'issue_url',\n",
       "  'issue_label',\n",
       "  'issue_created_at',\n",
       "  'issue_author_association',\n",
       "  'repository_url',\n",
       "  'issue_title',\n",
       "  'issue_body'],\n",
       "    Unnamed: 0                                          issue_url  issue_label  \\\n",
       " 0           0  https://api.github.com/repos/eamodio/vscode-gi...          bug   \n",
       " 1           1  https://api.github.com/repos/binwiederhier/pco...          bug   \n",
       " 2           2  https://api.github.com/repos/binwiederhier/pco...          bug   \n",
       " 3           3  https://api.github.com/repos/Sothatsit/RoyalUr...  enhancement   \n",
       " 4           4  https://api.github.com/repos/Malivil/TTT-Custo...          bug   \n",
       " \n",
       "        issue_created_at issue_author_association  \\\n",
       " 0  2021-01-02T18:07:30Z                     NONE   \n",
       " 1  2020-12-31T18:19:31Z                    OWNER   \n",
       " 2  2021-01-03T04:33:36Z                    OWNER   \n",
       " 3  2020-12-25T00:46:00Z                    OWNER   \n",
       " 4  2021-01-02T21:36:57Z                    OWNER   \n",
       " \n",
       "                                       repository_url  \\\n",
       " 0  https://api.github.com/repos/eamodio/vscode-gi...   \n",
       " 1   https://api.github.com/repos/binwiederhier/pcopy   \n",
       " 2   https://api.github.com/repos/binwiederhier/pcopy   \n",
       " 3  https://api.github.com/repos/Sothatsit/RoyalUr...   \n",
       " 4  https://api.github.com/repos/Malivil/TTT-Custo...   \n",
       " \n",
       "                                          issue_title  \\\n",
       " 0  Welcome screen on every editor window is very ...   \n",
       " 1  \"pcopy invite\" and \"pcopy paste abc:\" does not...   \n",
       " 2  UI: Modal overlay is half transparent, shouldn...   \n",
       " 3  Make the loading screen scale with browser win...   \n",
       " 4  Spectator - Investigate a way to strip weapons...   \n",
       " \n",
       "                                           issue_body  \n",
       " 0  I just discovered Gitlens and find the functio...  \n",
       " 1                                                NaN  \n",
       " 2                                                NaN  \n",
       " 3  Currently the loading wheel is a fixed size in...  \n",
       " 4                    To bring magneto stick floating  )"
      ]
     },
     "execution_count": 3,
     "metadata": {},
     "output_type": "execute_result"
    }
   ],
   "source": [
    "\n",
    "val_path = \"D:\\\\学习资料\\\\train.csv\"\n",
    "df_val = pd.read_csv(val_path)\n",
    "\n",
    "# 显示列名与前几行内容\n",
    "columns = df_val.columns.tolist()\n",
    "sample_rows = df_val.head()\n",
    "\n",
    "columns, sample_rows"
   ]
  },
  {
   "cell_type": "code",
   "execution_count": 5,
   "id": "b0989165",
   "metadata": {},
   "outputs": [
    {
     "data": {
      "text/plain": [
       "((721899, 6), (1000, 6), (721899,), (1000,))"
      ]
     },
     "execution_count": 5,
     "metadata": {},
     "output_type": "execute_result"
    }
   ],
   "source": [
    "from sklearn.model_selection import train_test_split\n",
    "y = df.pop('issue_label')\n",
    "X_train,X_val, y_train, y_val = train_test_split(df,y, test_size=1000, random_state=42, stratify=y)\n",
    "X_train.shape, X_val.shape, y_train.shape, y_val.shape"
   ]
  },
  {
   "cell_type": "code",
   "execution_count": 6,
   "id": "4be0d67f",
   "metadata": {},
   "outputs": [
    {
     "data": {
      "text/plain": [
       "(issue_label\n",
       " bug            0.49952\n",
       " enhancement    0.41413\n",
       " question       0.08635\n",
       " Name: proportion, dtype: float64,\n",
       " issue_label\n",
       " bug            0.500\n",
       " enhancement    0.414\n",
       " question       0.086\n",
       " Name: proportion, dtype: float64)"
      ]
     },
     "execution_count": 6,
     "metadata": {},
     "output_type": "execute_result"
    }
   ],
   "source": [
    "y_train.value_counts(normalize=True), y_val.value_counts(normalize=True)\n"
   ]
  },
  {
   "cell_type": "code",
   "execution_count": 7,
   "id": "58ccc083",
   "metadata": {},
   "outputs": [],
   "source": [
    "train_df = X_train.assign(issue_label=y_train.values)\n",
    "val_df = X_val.assign(issue_label=y_val.values)"
   ]
  },
  {
   "cell_type": "code",
   "execution_count": 9,
   "id": "269570d7",
   "metadata": {},
   "outputs": [],
   "source": [
    "train_df.to_csv('D:\\\\学习资料\\\\train.split.csv')\n",
    "val_df.to_csv('D:\\\\学习资料\\\\val.split.csv')"
   ]
  },
  {
   "cell_type": "code",
   "execution_count": null,
   "id": "5136e328",
   "metadata": {},
   "outputs": [],
   "source": []
  }
 ],
 "metadata": {
  "kernelspec": {
   "display_name": "Python (issue_bert)",
   "language": "python",
   "name": "issue_bert"
  },
  "language_info": {
   "codemirror_mode": {
    "name": "ipython",
    "version": 3
   },
   "file_extension": ".py",
   "mimetype": "text/x-python",
   "name": "python",
   "nbconvert_exporter": "python",
   "pygments_lexer": "ipython3",
   "version": "3.10.17"
  }
 },
 "nbformat": 4,
 "nbformat_minor": 5
}
