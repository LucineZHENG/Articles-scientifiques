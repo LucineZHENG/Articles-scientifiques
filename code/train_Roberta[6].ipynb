{
 "cells": [
  {
   "cell_type": "code",
   "execution_count": 1,
   "id": "bc85abfb",
   "metadata": {},
   "outputs": [
    {
     "name": "stderr",
     "output_type": "stream",
     "text": [
      "C:\\Users\\18494\\.conda\\envs\\issue_bert\\lib\\site-packages\\tqdm\\auto.py:21: TqdmWarning: IProgress not found. Please update jupyter and ipywidgets. See https://ipywidgets.readthedocs.io/en/stable/user_install.html\n",
      "  from .autonotebook import tqdm as notebook_tqdm\n"
     ]
    }
   ],
   "source": [
    "import torch\n",
    "import torch.nn as nn\n",
    "import pandas as pd\n",
    "from torch.utils.data import Dataset, DataLoader\n",
    "from transformers import AutoTokenizer, AutoModel\n",
    "from sklearn.metrics import f1_score, classification_report\n",
    "from tqdm import tqdm\n",
    "\n",
    "from models import BERTClass\n",
    "from utils import create_modified_dataset\n"
   ]
  },
  {
   "cell_type": "code",
   "execution_count": 2,
   "id": "aff29629",
   "metadata": {},
   "outputs": [],
   "source": [
    "#在原始项目中，\n",
    "#参数管理是通过 argparse （config.py）实现的，它可以动态解析命令行输入，并结合配置文件，使得实验的灵活性和可重复性非常高，\n",
    "#尤其适用于大规模实验、云端部署或多人协作的研究环境。不过这种方式在小规模复现任务中显得较为冗余，尤其是在 Notebook 中运行时并不方便。\n",
    "#因此，我们使用了一个简化版本的 Args 类，将所有超参数直接硬编码在类中，减少外部依赖，提高运行速度，也更直观易懂。\n",
    "class Args:\n",
    "    # Point de contrôle du modèle pré-entraîné, utilisé pour charger le modèle RoBERTa de HuggingFace\n",
    "    # 预训练模型检查点，用于加载 HuggingFace 的 RoBERTa 模型\n",
    "    EMB_MODEL_CHECKPOINT = \"roberta-base\"\n",
    "    # Nom abrégé du modèle, utilisé dans les noms de fichiers\n",
    "    # 模型名称标识\n",
    "    EMB_MODEL_CHECKPOINT_NAME = \"roberta\"\n",
    "    # Mappage des étiquettes : bug, enhancement, question vers des entiers\n",
    "    # 标签映射，将三类标签（bug、enhancement、question）映射为数字\n",
    "    LABEL_MAP = {'bug': 0, 'enhancement': 1, 'question': 2}\n",
    "    DATASET_DIR = \"D:/学习资料/\"\n",
    "    # Longueur maximale du texte d’entrée, utilisée pour le padding/troncation\n",
    "    # 输入文本最大长度，用于截断和填充文本\n",
    "    ISSUE_TEXT_MAX_LEN = 512\n",
    "    # Seuil pour déterminer un \"early issue\" basé sur le numéro d'issue\n",
    "     # 判断是否为“早期问题”的阈值，issue number 小于该值时标记为早期问题\n",
    "    EARLY_ISSUE_THRESHOLD = 100\n",
    "    # Suffixe de nom pour identifier une version particulière du dataset\n",
    "    # 数据集后缀，用于加载特定预处理版本的文件\n",
    "    DATASET_SUFFIX = \"_dropfeature\"\n",
    "    \n",
    "    # 补充这几个是为了训练阶段用\n",
    "    \n",
    "    # Taux de dropout utilisé pour éviter l’overfitting\n",
    "    # dropout 概率，用于防止过拟合\n",
    "    dropout = 0.24\n",
    "    # Appareil utilisé pour l’entraînement, GPU si disponible\n",
    "    # 训练使用的设备 使用 GPU\n",
    "    device = \"cuda\" if torch.cuda.is_available() else \"cpu\"\n",
    "    BATCH_SIZE = 8\n",
    "    # Nombre d’époques d'entraînement\n",
    "    # 训练轮数\n",
    "    EPOCHS = 4\n",
    "    # Taux d’apprentissage (learning rate)\n",
    "    # 学习率，控制参数更新的步长\n",
    "    LEARNING_RATE = 1e-5\n",
    "# Instanciation de la classe des paramètres\n",
    "# 实例化参数类\n",
    "args = Args()"
   ]
  },
  {
   "cell_type": "code",
   "execution_count": 4,
   "id": "e2e77075",
   "metadata": {},
   "outputs": [
    {
     "name": "stdout",
     "output_type": "stream",
     "text": [
      "[INFO] train dataset not found. Creating...\n"
     ]
    },
    {
     "name": "stderr",
     "output_type": "stream",
     "text": [
      "C:\\Users\\18494\\.conda\\envs\\issue_bert\\lib\\site-packages\\huggingface_hub\\file_download.py:943: FutureWarning: `resume_download` is deprecated and will be removed in version 1.0.0. Downloads always resume when possible. If you want to force a new download, use `force_download=True`.\n",
      "  warnings.warn(\n",
      "C:\\Users\\18494\\Issue-Classifier\\src\\utils.py:199: FutureWarning: A value is trying to be set on a copy of a DataFrame or Series through chained assignment using an inplace method.\n",
      "The behavior will change in pandas 3.0. This inplace method will never work because the intermediate object on which we are setting values always behaves as a copy.\n",
      "\n",
      "For example, when doing 'df[col].method(value, inplace=True)', try using 'df.method({col: value}, inplace=True)' or df[col] = df[col].method(value) instead, to perform the operation inplace on the original object.\n",
      "\n",
      "\n",
      "  modified_df[\"issue_body\"].replace(np.nan, '', inplace=True)\n"
     ]
    },
    {
     "name": "stdout",
     "output_type": "stream",
     "text": [
      "head of modified_df for debugging: \n",
      "0    implement slot exchange [B] TactJam can store ...\n",
      "1    New ESMF Logging Errors in MAPL [B] My nightly...\n",
      "2    First Post in a thread creates makes 'NoneType...\n",
      "3    The entire body of a function should be indent...\n",
      "4    Disallow sale negative stock [B] ### Backgroun...\n",
      "Name: issue_text, dtype: object\n",
      "[INFO] train dataset created.\n",
      "[INFO] val dataset not found. Creating...\n"
     ]
    },
    {
     "name": "stderr",
     "output_type": "stream",
     "text": [
      "C:\\Users\\18494\\.conda\\envs\\issue_bert\\lib\\site-packages\\huggingface_hub\\file_download.py:943: FutureWarning: `resume_download` is deprecated and will be removed in version 1.0.0. Downloads always resume when possible. If you want to force a new download, use `force_download=True`.\n",
      "  warnings.warn(\n",
      "C:\\Users\\18494\\Issue-Classifier\\src\\utils.py:199: FutureWarning: A value is trying to be set on a copy of a DataFrame or Series through chained assignment using an inplace method.\n",
      "The behavior will change in pandas 3.0. This inplace method will never work because the intermediate object on which we are setting values always behaves as a copy.\n",
      "\n",
      "For example, when doing 'df[col].method(value, inplace=True)', try using 'df.method({col: value}, inplace=True)' or df[col] = df[col].method(value) instead, to perform the operation inplace on the original object.\n",
      "\n",
      "\n",
      "  modified_df[\"issue_body\"].replace(np.nan, '', inplace=True)\n"
     ]
    },
    {
     "name": "stdout",
     "output_type": "stream",
     "text": [
      "head of modified_df for debugging: \n",
      "0    Multi-GPU training is lower than single GPU tr...\n",
      "1    Update Demo Map to latest FFA map [B] Its stil...\n",
      "2    Are you pulling our leg about the delete note ...\n",
      "3    Round Robin Sample Playback [B] I would like t...\n",
      "4    Share list from ShareThis does not work [B] Ma...\n",
      "Name: issue_text, dtype: object\n",
      "[INFO] val dataset created.\n"
     ]
    }
   ],
   "source": [
    "#对原始 CSV 数据（如 train.split.csv 和 val.split.csv）进行清洗、特征工程与编码，并生成模型可用的训练和验证数据文件\n",
    "create_modified_dataset(args, dtype=['train', 'val'])\n"
   ]
  },
  {
   "cell_type": "code",
   "execution_count": 3,
   "id": "24bd1d79",
   "metadata": {},
   "outputs": [],
   "source": [
    "#定义了一个自定义的数据集类，用于配合 PyTorch 的 DataLoader 加载模型训练和验证所需的数据。\n",
    "class CustomTextDataset(torch.utils.data.Dataset):\n",
    "    def __init__(self, df):\n",
    "        import ast\n",
    "        self.df = df\n",
    "        # 将字符串形式的字典转换为实际字典对象\n",
    "        self.df[\"encodings\"] = self.df[\"encodings\"].apply(ast.literal_eval)\n",
    "        self.df[\"features\"] = self.df[\"features\"].apply(ast.literal_eval)\n",
    "        \n",
    "    # Retourne l'échantillon à l'indice idx\n",
    "    # 返回第 idx 个样本\n",
    "    def __getitem__(self, idx):\n",
    "        \n",
    "        row = self.df.iloc[idx]\n",
    "        # Convertit les encodages texte en tenseurs PyTorch\n",
    "        # 将文本编码字段转为 tensor，包括 input_ids 和 attention_mask\n",
    "        encodings = {key: torch.tensor(val) for key, val in row[\"encodings\"].items()}\n",
    "        #Convertit les caractéristiques en tenseur Convertit également l'étiquette\n",
    "        # 将辅助特征和标签也转换为 tensor\n",
    "        features = torch.tensor(row[\"features\"], dtype=torch.long)\n",
    "        label = torch.tensor(row[\"label\"], dtype=torch.long)\n",
    "        #Retourne un dictionnaire contenant les entrées du modèle\n",
    "        # 返回一个包含所有输入的字典\n",
    "        return {\n",
    "            \"input_ids\": encodings[\"input_ids\"],\n",
    "            \"attention_mask\": encodings[\"attention_mask\"],\n",
    "            \"features\": features,\n",
    "            \"label\": label\n",
    "        }\n",
    "    # Retourne la taille du jeu de données\n",
    "    # 返回样本总数\n",
    "    def __len__(self):\n",
    "        return len(self.df)"
   ]
  },
  {
   "cell_type": "code",
   "execution_count": 4,
   "id": "95b3af85",
   "metadata": {},
   "outputs": [
    {
     "name": "stderr",
     "output_type": "stream",
     "text": [
      "C:\\Users\\18494\\.conda\\envs\\issue_bert\\lib\\site-packages\\huggingface_hub\\file_download.py:943: FutureWarning: `resume_download` is deprecated and will be removed in version 1.0.0. Downloads always resume when possible. If you want to force a new download, use `force_download=True`.\n",
      "  warnings.warn(\n",
      "Some weights of the model checkpoint at roberta-base were not used when initializing RobertaModel: ['lm_head.layer_norm.weight', 'lm_head.dense.weight', 'lm_head.dense.bias', 'lm_head.bias', 'lm_head.layer_norm.bias', 'lm_head.decoder.weight']\n",
      "- This IS expected if you are initializing RobertaModel from the checkpoint of a model trained on another task or with another architecture (e.g. initializing a BertForSequenceClassification model from a BertForPreTraining model).\n",
      "- This IS NOT expected if you are initializing RobertaModel from the checkpoint of a model that you expect to be exactly identical (initializing a BertForSequenceClassification model from a BertForSequenceClassification model).\n"
     ]
    }
   ],
   "source": [
    "# Chargement du modèle RoBERTa et transfert vers GPU ou CPU\n",
    "# 加载 RoBERTa 模型并移动到 GPU 或 CPU 上\n",
    "from models import BERTClass\n",
    "model = BERTClass(args).to(args.device)"
   ]
  },
  {
   "cell_type": "code",
   "execution_count": 19,
   "id": "fc542985",
   "metadata": {},
   "outputs": [],
   "source": [
    "\n",
    "# En raison de contraintes de calcul, nous échantillonnons 1% des données d'entraînement et 10% des données de validation\n",
    "# 由于算力限制，我们只采样 1% 的训练集 和 10% 的验证集以加快训练速度\n",
    "train_df = pd.read_csv(args.DATASET_DIR + \"roberta_train_dropfeature.split.csv\").sample(frac=0.01, random_state=42)  # 采样10%\n",
    "val_df = pd.read_csv(args.DATASET_DIR + \"roberta_val_dropfeature.split.csv\").sample(frac=0.1, random_state=42)  #\n",
    "# Préparation des ensembles de données personnalisés avec encodages et caractéristiques prétraités\n",
    "# 使用自定义数据集类加载预处理好的 encodings 和特征列\n",
    "train_dataset = CustomTextDataset(train_df)\n",
    "val_dataset = CustomTextDataset(val_df)\n",
    "# Création des DataLoaders PyTorch pour l'entraînement et la validation\n",
    "# 使用 PyTorch 的 DataLoader 进行小批量训练和验证数据加载\n",
    "train_loader = DataLoader(train_dataset, batch_size=args.BATCH_SIZE, shuffle=True)\n",
    "val_loader = DataLoader(val_dataset, batch_size=args.BATCH_SIZE)"
   ]
  },
  {
   "cell_type": "code",
   "execution_count": 6,
   "id": "8eece23f",
   "metadata": {},
   "outputs": [],
   "source": [
    "# Initialisation de l'optimiseur Adam avec le taux d'apprentissage défini\n",
    "# 初始化优化器 Adam，使用给定的学习率\n",
    "optimizer = torch.optim.Adam(model.parameters(), lr=args.LEARNING_RATE)\n",
    "# Fonction de perte : Entropie croisée pour classification multi-classes\n",
    "# 损失函数：多分类交叉熵损失，用于三分类问题\n",
    "criterion = nn.CrossEntropyLoss()"
   ]
  },
  {
   "cell_type": "code",
   "execution_count": 7,
   "id": "d8d5f469",
   "metadata": {
    "scrolled": true
   },
   "outputs": [
    {
     "name": "stderr",
     "output_type": "stream",
     "text": [
      "Epoch 1: 100%|███████████████████████████████████████████████████████████████████████| 903/903 [06:39<00:00,  2.26it/s]\n"
     ]
    },
    {
     "name": "stdout",
     "output_type": "stream",
     "text": [
      "\n",
      "Epoch 1 - Training Loss: 517.0764\n"
     ]
    },
    {
     "name": "stderr",
     "output_type": "stream",
     "text": [
      "Epoch 2: 100%|███████████████████████████████████████████████████████████████████████| 903/903 [06:53<00:00,  2.18it/s]\n"
     ]
    },
    {
     "name": "stdout",
     "output_type": "stream",
     "text": [
      "\n",
      "Epoch 2 - Training Loss: 387.6212\n"
     ]
    },
    {
     "name": "stderr",
     "output_type": "stream",
     "text": [
      "Epoch 3: 100%|███████████████████████████████████████████████████████████████████████| 903/903 [06:35<00:00,  2.28it/s]\n"
     ]
    },
    {
     "name": "stdout",
     "output_type": "stream",
     "text": [
      "\n",
      "Epoch 3 - Training Loss: 330.4884\n"
     ]
    },
    {
     "name": "stderr",
     "output_type": "stream",
     "text": [
      "Epoch 4: 100%|███████████████████████████████████████████████████████████████████████| 903/903 [06:36<00:00,  2.28it/s]"
     ]
    },
    {
     "name": "stdout",
     "output_type": "stream",
     "text": [
      "\n",
      "Epoch 4 - Training Loss: 261.9544\n"
     ]
    },
    {
     "name": "stderr",
     "output_type": "stream",
     "text": [
      "\n"
     ]
    }
   ],
   "source": [
    "# Boucle principale d'entraînement sur plusieurs époques\n",
    "# 主训练循环，按照设置的轮数执行\n",
    "for epoch in range(args.EPOCHS):\n",
    "    # Mise en mode entraînement (active le dropout et la normalisation)\n",
    "    # 将模型切换为训练模式（启用 dropout、batchnorm 等）\n",
    "    model.train()\n",
    "    # Initialisation de la perte cumulée pour cette époque\n",
    "    # 初始化本轮总损失值\n",
    "    total_loss = 0\n",
    "\n",
    "    # Parcours de chaque batch du DataLoader d'entraînement avec barre de progression\n",
    "    # 遍历每一个训练集的 batch，同时展示进度条\n",
    "    for batch in tqdm(train_loader, desc=f\"Epoch {epoch+1}\"):\n",
    "        # Parcours de chaque batch du DataLoader d'entraînement avec barre de progression\n",
    "        # 遍历每一个训练集的 batch，同时展示进度条\n",
    "        ids = batch[\"input_ids\"].to(args.device)\n",
    "        # Masque d'attention\n",
    "        # attention mask，用于标记 padding\n",
    "        mask = batch[\"attention_mask\"].to(args.device)\n",
    "        # Caractéristiques supplémentaires (early issue, owner, question)\n",
    "        # 三个额外的二值特征（是否早期，是否 owner，是否 question）\n",
    "        features = batch[\"features\"].to(args.device)\n",
    "        # Étiquettes de vérité terrain\n",
    "        # 真实标签，0-2之间的整数\n",
    "        labels = batch[\"label\"].to(args.device)\n",
    "\n",
    "        # Prédiction du modèle\n",
    "        # 模型预测输出（未经过 softmax 的 logits）\n",
    "        outputs = model(ids, mask, features)\n",
    "        # Calcul de la perte (CrossEntropyLoss)\n",
    "        # 计算当前 batch 的损失\n",
    "        loss = criterion(outputs, labels)\n",
    "\n",
    "        # Remise à zéro des gradients\n",
    "        # 清除之前积累的梯度\n",
    "        optimizer.zero_grad()\n",
    "        # Rétropropagation de l'erreur\n",
    "        # 反向传播计算梯度\n",
    "        loss.backward()\n",
    "        # Mise à jour des paramètres\n",
    "        # 根据梯度更新模型参数\n",
    "        optimizer.step()\n",
    "\n",
    "        # Accumulation de la perte pour cette époque\n",
    "        # 累加当前 batch 的损失值\n",
    "        total_loss += loss.item()\n",
    "    # Affichage de la perte totale à la fin de l'époque\n",
    "    # 打印当前轮次的总损失\n",
    "    print(f\"\\nEpoch {epoch+1} - Training Loss: {total_loss:.4f}\")"
   ]
  },
  {
   "cell_type": "code",
   "execution_count": 26,
   "id": "09edca65",
   "metadata": {},
   "outputs": [
    {
     "name": "stdout",
     "output_type": "stream",
     "text": [
      "Epoch 4 - Validation F1: 0.7851\n",
      "              precision    recall  f1-score   support\n",
      "\n",
      "           0     0.8889    0.8136    0.8496        59\n",
      "           1     0.7179    0.9032    0.8000        31\n",
      "           2     0.8571    0.6000    0.7059        10\n",
      "\n",
      "    accuracy                         0.8200       100\n",
      "   macro avg     0.8213    0.7723    0.7851       100\n",
      "weighted avg     0.8327    0.8200    0.8198       100\n",
      "\n"
     ]
    }
   ],
   "source": [
    "# Passage du modèle en mode évaluation (désactive dropout, batchnorm, etc.)\n",
    "# 将模型切换为评估模式（停用 dropout 和 batchnorm 等）\n",
    "model.eval()\n",
    "\n",
    "# Initialisation des listes pour stocker les prédictions et les étiquettes réelles\n",
    "# 初始化用于存储预测结果和真实标签的列表\n",
    "all_preds, all_labels = [], []\n",
    "\n",
    "# Aucune mise à jour des gradients pendant l'évaluation (économie de mémoire et accélération)\n",
    "# 在评估过程中不计算梯度（节省显存，加快运行速度）\n",
    "with torch.no_grad():\n",
    "    # Boucle sur les batchs du jeu de validation\n",
    "    # 遍历验证集中的每个 batch\n",
    "    for batch in val_loader:\n",
    "        ids = batch[\"input_ids\"].to(args.device)           # Identifiants des tokens d'entrée\n",
    "                                                           # 输入 token 的 id 序列\n",
    "        mask = batch[\"attention_mask\"].to(args.device)     # Masque d'attention\n",
    "                                                           # attention mask\n",
    "        features = batch[\"features\"].to(args.device)       # Caractéristiques supplémentaires\n",
    "                                                           # 附加的二值特征\n",
    "        labels = batch[\"label\"].to(args.device)            # Étiquettes de vérité terrain\n",
    "                                                           # 真实标签\n",
    "\n",
    "        outputs = model(ids, mask, features)               # Prédictions du modèle\n",
    "                                                           # 模型前向输出\n",
    "        preds = torch.argmax(outputs, dim=1)               # Conversion des logits en classes\n",
    "                                                           # 取最大 logit 的索引作为预测结果\n",
    "\n",
    "        all_preds.extend(preds.cpu().numpy())              # Ajout des prédictions à la liste\n",
    "                                                           # 将预测结果添加到列表\n",
    "        all_labels.extend(labels.cpu().numpy())            # Ajout des étiquettes à la liste\n",
    "                                                           # 将真实标签添加到列表\n",
    "\n",
    "# Calcul du score F1 macro pour mesurer la performance globale\n",
    "# 计算 macro 平均的 F1 分数作为整体性能指标\n",
    "f1 = f1_score(all_labels, all_preds, average=\"macro\")\n",
    "\n",
    "# Affichage du score F1 pour cette époque\n",
    "# 打印当前轮次的 F1 分数\n",
    "print(f\"Epoch {epoch+1} - Validation F1: {f1:.4f}\")\n",
    "\n",
    "# Affichage du rapport de classification complet (précision, rappel, F1 par classe)\n",
    "# 打印完整的分类报告（每个类别的 precision、recall 和 F1）\n",
    "print(classification_report(all_labels, all_preds, digits=4))\n",
    "\n",
    "\n",
    "#'bug': 0, 'enhancement': 1, 'question': 2"
   ]
  },
  {
   "cell_type": "code",
   "execution_count": 27,
   "id": "4cdf0635",
   "metadata": {},
   "outputs": [
    {
     "name": "stderr",
     "output_type": "stream",
     "text": [
      "Extracting features: 100%|█████████████████████████████████████████████████████████████| 13/13 [00:02<00:00,  5.49it/s]\n",
      "C:\\Users\\18494\\.conda\\envs\\issue_bert\\lib\\site-packages\\sklearn\\manifold\\_t_sne.py:1164: FutureWarning: 'n_iter' was renamed to 'max_iter' in version 1.5 and will be removed in 1.7.\n",
      "  warnings.warn(\n"
     ]
    },
    {
     "data": {
      "image/png": "[encoded data removed]",
      "text/plain": [
       "<Figure size 1400x600 with 2 Axes>"
      ]
     },
     "metadata": {},
     "output_type": "display_data"
    }
   ],
   "source": [
    "# Importation des modules nécessaires pour la réduction de dimensionnalité et la visualisation\n",
    "# 导入用于降维和可视化的必要模块\n",
    "from sklearn.decomposition import PCA\n",
    "from sklearn.manifold import TSNE\n",
    "import matplotlib.pyplot as plt\n",
    "import seaborn as sns\n",
    "import torch\n",
    "import numpy as np\n",
    "from tqdm import tqdm\n",
    "\n",
    "# Passage du modèle en mode évaluation\n",
    "# 设置模型为评估模式（停用 Dropout 等）\n",
    "model.eval()\n",
    "\n",
    "# Initialisation des listes pour stocker les représentations et les étiquettes\n",
    "# 初始化两个列表：一个保存嵌入表示，一个保存标签\n",
    "all_embeddings = []\n",
    "all_labels = []\n",
    "\n",
    "# Pas de calcul de gradient nécessaire\n",
    "# 不需要计算梯度，加快运行速度，节省内存\n",
    "with torch.no_grad():\n",
    "    # Boucle sur les données de validation pour extraire les embeddings [CLS]\n",
    "    # 遍历验证集，从每个样本中提取 [CLS] token 表示\n",
    "    for batch in tqdm(val_loader, desc=\"Extracting features\"):\n",
    "        ids = batch[\"input_ids\"].to(args.device)              # Identifiants des tokens\n",
    "                                                             # 输入 token 的索引\n",
    "        mask = batch[\"attention_mask\"].to(args.device)        # Masque d’attention\n",
    "                                                             # attention mask\n",
    "        features = batch[\"features\"].to(args.device)          # Caractéristiques supplémentaires\n",
    "                                                             # 附加特征\n",
    "        labels = batch[\"label\"].to(args.device)               # Étiquette réelle\n",
    "                                                             # 标签\n",
    "\n",
    "        # Extraire la représentation du token [CLS] de la dernière couche cachée\n",
    "        # 获取 BERT 输出的最后一层中第一个 token（即 [CLS]）的嵌入向量\n",
    "        out = model.l1(ids, attention_mask=mask)[0][:, 0, :]  # [CLS] embedding\n",
    "\n",
    "        # Ajout des embeddings et labels à la liste\n",
    "        # 保存嵌入和标签\n",
    "        all_embeddings.append(out.cpu())\n",
    "        all_labels.extend(labels.cpu().numpy())\n",
    "\n",
    "# Concaténation de tous les embeddings pour en faire une matrice (N x D)\n",
    "# 将所有嵌入拼接成一个完整的矩阵 (样本数 × 特征维度)\n",
    "X = torch.cat(all_embeddings, dim=0).numpy()\n",
    "y = np.array(all_labels)\n",
    "\n",
    "# Réduction de dimension par PCA (2 composantes principales)\n",
    "# 使用 PCA 将维度降至二维（用于可视化）\n",
    "pca = PCA(n_components=2)\n",
    "X_pca = pca.fit_transform(X)\n",
    "\n",
    "# Réduction de dimension par t-SNE pour une structure plus non linéaire\n",
    "# 使用 t-SNE 进行非线性降维，更好展现分布结构\n",
    "tsne = TSNE(n_components=2, perplexity=7, n_iter=1000, random_state=42)\n",
    "X_tsne = tsne.fit_transform(X)\n",
    "\n",
    "# Création d'une figure avec deux sous-plots : PCA et t-SNE\n",
    "# 创建图像并绘制两个子图（PCA 和 t-SNE）\n",
    "fig, axs = plt.subplots(1, 2, figsize=(14, 6))\n",
    "\n",
    "# Visualisation des résultats PCA\n",
    "# 使用 Seaborn 绘制 PCA 可视化结果\n",
    "sns.scatterplot(x=X_pca[:, 0], y=X_pca[:, 1], hue=y, palette=\"Set1\", ax=axs[0])\n",
    "axs[0].set_title(\"PCA plot\")                 # Titre du plot\n",
    "axs[0].set_xlabel(\"x-cord\")                  # Axe X\n",
    "axs[0].set_ylabel(\"y-cord\")                  # Axe Y\n",
    "\n",
    "# Visualisation des résultats t-SNE\n",
    "# 使用 Seaborn 绘制 t-SNE 可视化结果\n",
    "sns.scatterplot(x=X_tsne[:, 0], y=X_tsne[:, 1], hue=y, palette=\"Set1\", ax=axs[1])\n",
    "axs[1].set_title(\"t-SNE plot\")               # Titre du plot\n",
    "axs[1].set_xlabel(\"x-cord\")                  # Axe X\n",
    "axs[1].set_ylabel(\"y-cord\")                  # Axe Y\n",
    "\n",
    "# Ajustement de l'espacement entre les subplots\n",
    "# 自动调整子图之间间距\n",
    "plt.tight_layout()\n",
    "\n",
    "# Affichage de la figure\n",
    "# 显示图像\n",
    "plt.show()\n",
    "\n"
   ]
  },
  {
   "cell_type": "code",
   "execution_count": 13,
   "id": "d8fd0d5d",
   "metadata": {},
   "outputs": [
    {
     "name": "stdout",
     "output_type": "stream",
     "text": [
      "Collecting seaborn\n",
      "  Using cached seaborn-0.13.2-py3-none-any.whl.metadata (5.4 kB)\n",
      "Requirement already satisfied: numpy!=1.24.0,>=1.20 in c:\\users\\18494\\.conda\\envs\\issue_bert\\lib\\site-packages (from seaborn) (2.1.2)\n",
      "Requirement already satisfied: pandas>=1.2 in c:\\users\\18494\\.conda\\envs\\issue_bert\\lib\\site-packages (from seaborn) (2.2.3)\n",
      "Requirement already satisfied: matplotlib!=3.6.1,>=3.4 in c:\\users\\18494\\.conda\\envs\\issue_bert\\lib\\site-packages (from seaborn) (3.10.3)\n",
      "Requirement already satisfied: contourpy>=1.0.1 in c:\\users\\18494\\.conda\\envs\\issue_bert\\lib\\site-packages (from matplotlib!=3.6.1,>=3.4->seaborn) (1.3.2)\n",
      "Requirement already satisfied: cycler>=0.10 in c:\\users\\18494\\.conda\\envs\\issue_bert\\lib\\site-packages (from matplotlib!=3.6.1,>=3.4->seaborn) (0.12.1)\n",
      "Requirement already satisfied: fonttools>=4.22.0 in c:\\users\\18494\\.conda\\envs\\issue_bert\\lib\\site-packages (from matplotlib!=3.6.1,>=3.4->seaborn) (4.57.0)\n",
      "Requirement already satisfied: kiwisolver>=1.3.1 in c:\\users\\18494\\.conda\\envs\\issue_bert\\lib\\site-packages (from matplotlib!=3.6.1,>=3.4->seaborn) (1.4.8)\n",
      "Requirement already satisfied: packaging>=20.0 in c:\\users\\18494\\.conda\\envs\\issue_bert\\lib\\site-packages (from matplotlib!=3.6.1,>=3.4->seaborn) (25.0)\n",
      "Requirement already satisfied: pillow>=8 in c:\\users\\18494\\.conda\\envs\\issue_bert\\lib\\site-packages (from matplotlib!=3.6.1,>=3.4->seaborn) (11.0.0)\n",
      "Requirement already satisfied: pyparsing>=2.3.1 in c:\\users\\18494\\.conda\\envs\\issue_bert\\lib\\site-packages (from matplotlib!=3.6.1,>=3.4->seaborn) (3.2.3)\n",
      "Requirement already satisfied: python-dateutil>=2.7 in c:\\users\\18494\\.conda\\envs\\issue_bert\\lib\\site-packages (from matplotlib!=3.6.1,>=3.4->seaborn) (2.9.0.post0)\n",
      "Requirement already satisfied: pytz>=2020.1 in c:\\users\\18494\\.conda\\envs\\issue_bert\\lib\\site-packages (from pandas>=1.2->seaborn) (2025.2)\n",
      "Requirement already satisfied: tzdata>=2022.7 in c:\\users\\18494\\.conda\\envs\\issue_bert\\lib\\site-packages (from pandas>=1.2->seaborn) (2025.2)\n",
      "Requirement already satisfied: six>=1.5 in c:\\users\\18494\\.conda\\envs\\issue_bert\\lib\\site-packages (from python-dateutil>=2.7->matplotlib!=3.6.1,>=3.4->seaborn) (1.17.0)\n",
      "Using cached seaborn-0.13.2-py3-none-any.whl (294 kB)\n",
      "Installing collected packages: seaborn\n",
      "Successfully installed seaborn-0.13.2\n"
     ]
    }
   ],
   "source": [
    "!pip install seaborn\n"
   ]
  },
  {
   "cell_type": "code",
   "execution_count": null,
   "id": "9ed26a70",
   "metadata": {},
   "outputs": [],
   "source": []
  },
  {
   "cell_type": "code",
   "execution_count": null,
   "id": "cc4ee48f",
   "metadata": {},
   "outputs": [],
   "source": []
  },
  {
   "cell_type": "code",
   "execution_count": null,
   "id": "923b0173",
   "metadata": {},
   "outputs": [],
   "source": []
  }
 ],
 "metadata": {
  "kernelspec": {
   "display_name": "Python (issue_bert)",
   "language": "python",
   "name": "issue_bert"
  },
  "language_info": {
   "codemirror_mode": {
    "name": "ipython",
    "version": 3
   },
   "file_extension": ".py",
   "mimetype": "text/x-python",
   "name": "python",
   "nbconvert_exporter": "python",
   "pygments_lexer": "ipython3",
   "version": "3.10.17"
  }
 },
 "nbformat": 4,
 "nbformat_minor": 5
}
